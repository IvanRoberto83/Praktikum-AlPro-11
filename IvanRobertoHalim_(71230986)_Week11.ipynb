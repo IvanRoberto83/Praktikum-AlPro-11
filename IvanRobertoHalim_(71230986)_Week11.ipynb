{
  "nbformat": 4,
  "nbformat_minor": 0,
  "metadata": {
    "colab": {
      "provenance": []
    },
    "kernelspec": {
      "name": "python3",
      "display_name": "Python 3"
    },
    "language_info": {
      "name": "python"
    }
  },
  "cells": [
    {
      "cell_type": "code",
      "execution_count": 1,
      "metadata": {
        "colab": {
          "base_uri": "https://localhost:8080/"
        },
        "id": "iGoxvWF4Qwq-",
        "outputId": "f4e9de20-1ffc-49bb-bc99-75af754f291c"
      },
      "outputs": [
        {
          "output_type": "stream",
          "name": "stdout",
          "text": [
            "Dictionary : {1: 10, 2: 20, 3: 30, 4: 40, 5: 50, 6: 60}\n",
            "\n",
            "Key     Value   Item\n",
            "1\t10\t1\n",
            "2\t20\t2\n",
            "3\t30\t3\n",
            "4\t40\t4\n",
            "5\t50\t5\n",
            "6\t60\t6\n"
          ]
        }
      ],
      "source": [
        "#Soal 1\n",
        "\n",
        "ini_dict = {1: 10, 2: 20, 3: 30, 4: 40, 5: 50, 6: 60}\n",
        "\n",
        "print(f\"Dictionary : {ini_dict}\\n\")\n",
        "print(\"Key    \",\"Value  \",\"Item\")\n",
        "\n",
        "for key,values in ini_dict.items():\n",
        "    print(f\"{key}\\t{values}\\t{key}\")"
      ]
    },
    {
      "cell_type": "code",
      "source": [
        "#Soal 2\n",
        "\n",
        "Lista = ['red', 'green', 'blue']\n",
        "Listb = ['#FF0000','#008000', '#0000FF']\n",
        "ini_dict = {}\n",
        "\n",
        "for i in range(3):\n",
        "    ini_dict[Lista[i]] = Listb[i]\n",
        "\n",
        "print(f\"List A : {Lista}\")\n",
        "print(f\"List B : {Listb}\")\n",
        "print(ini_dict)"
      ],
      "metadata": {
        "colab": {
          "base_uri": "https://localhost:8080/"
        },
        "id": "-o-V5qLEQ-si",
        "outputId": "7a573a11-466e-490e-c370-564ca4cd40d3"
      },
      "execution_count": 2,
      "outputs": [
        {
          "output_type": "stream",
          "name": "stdout",
          "text": [
            "List A : ['red', 'green', 'blue']\n",
            "List B : ['#FF0000', '#008000', '#0000FF']\n",
            "{'red': '#FF0000', 'green': '#008000', 'blue': '#0000FF'}\n"
          ]
        }
      ]
    }
  ]
}